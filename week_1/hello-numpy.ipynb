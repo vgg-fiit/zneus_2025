{
 "cells": [
  {
   "attachments": {},
   "cell_type": "markdown",
   "metadata": {},
   "source": [
    "# Hello Numpy\n",
    "\n",
    "Introduction to NUMPY\n"
   ]
  },
  {
   "cell_type": "code",
   "execution_count": null,
   "metadata": {},
   "outputs": [],
   "source": [
    "import numpy as np"
   ]
  },
  {
   "attachments": {},
   "cell_type": "markdown",
   "metadata": {},
   "source": [
    "## List vs. Numpy Array\n",
    "\n",
    "A list is a Python data structure.\n",
    "\n",
    "A Numpy array is an N-dimensional tensor. It can be a vector, a matrix, or a higher-order tensor. The elements of a tensor have the same type.\n",
    "\n",
    "A list can be converted to a Numpy array."
   ]
  },
  {
   "cell_type": "code",
   "execution_count": 2,
   "metadata": {},
   "outputs": [
    {
     "name": "stdout",
     "output_type": "stream",
     "text": [
      "List contains 5 items: [1, 2, 3, 4, 5]\n"
     ]
    }
   ],
   "source": [
    "# This is a simple list\n",
    "listItems = [1, 2, 3, 4, 5]\n",
    "print('List contains {} items: {}'.format(len(listItems), listItems))\n"
   ]
  },
  {
   "cell_type": "code",
   "execution_count": 3,
   "metadata": {},
   "outputs": [
    {
     "name": "stdout",
     "output_type": "stream",
     "text": [
      "[0, 1.0, True, 'StringItem', {'x': '1.0'}]\n"
     ]
    }
   ],
   "source": [
    "# List can also contain elements of different types\n",
    "listItems2 = [0, 1.0, True, 'StringItem', {\"x\": \"1.0\"} ]\n",
    "print(listItems2)\n"
   ]
  },
  {
   "attachments": {},
   "cell_type": "markdown",
   "metadata": {},
   "source": [
    "Let's try to create a matrix M using a list - it's actually two nested lists."
   ]
  },
  {
   "cell_type": "code",
   "execution_count": 4,
   "metadata": {},
   "outputs": [
    {
     "name": "stdout",
     "output_type": "stream",
     "text": [
      "[[1, 2, 3], [4, 5, 6], [7, 8, 9]]\n"
     ]
    }
   ],
   "source": [
    "M = [[1,2,3], [4,5,6], [7,8,9]]\n",
    "print(M)\n"
   ]
  },
  {
   "attachments": {},
   "cell_type": "markdown",
   "metadata": {},
   "source": [
    "It is difficult to express the dimensions of such a matrix exactly. Each nested list can have a different size....\n",
    "\n",
    "### <b>A list is not a suitable data structure for working with matrices. !</b>"
   ]
  },
  {
   "attachments": {},
   "cell_type": "markdown",
   "metadata": {},
   "source": [
    "## Numpy Arrays\n"
   ]
  },
  {
   "cell_type": "code",
   "execution_count": null,
   "metadata": {},
   "outputs": [
    {
     "name": "stdout",
     "output_type": "stream",
     "text": [
      "Numpy array:  [1 2 3 4]\n",
      "Element type:  int64\n",
      "Shape:  (4,)\n"
     ]
    }
   ],
   "source": [
    "# Let's create a numpy array - it looks like a list\n",
    "a = np.array([1, 2, 3, 4])\n",
    "print('Numpy array: ', a)\n",
    "print('Element type: ', a.dtype)\n",
    "print('Shape: ', a.shape)\n"
   ]
  },
  {
   "attachments": {},
   "cell_type": "markdown",
   "metadata": {},
   "source": [
    "Shape: (4,) = RANK 1 \n"
   ]
  },
  {
   "cell_type": "code",
   "execution_count": null,
   "metadata": {},
   "outputs": [
    {
     "name": "stdout",
     "output_type": "stream",
     "text": [
      "Numpy array: \n",
      " [[1. 2. 3.]\n",
      " [4. 5. 6.]\n",
      " [7. 8. 9.]]\n",
      "Element type:  float64\n",
      "Shape:  (3, 3)\n"
     ]
    }
   ],
   "source": [
    "# Let's try to make a matrix.\n",
    "m = np.array([[1,2,3], [4,5,6], [7,8,9]], dtype=float)\n",
    "print('Numpy array: \\n', m)\n",
    "print('Element type: ', m.dtype)\n",
    "print('Shape: ', m.shape)\n"
   ]
  },
  {
   "attachments": {},
   "cell_type": "markdown",
   "metadata": {},
   "source": [
    "Shape: (3, 3) = RANK 2       Two-dimensional matrix.\n",
    "\n",
    "All the calculations we will do in these examples will involve RANK 2 arrays.\n",
    "RANK 1 is something we will want to avoid.\n",
    "\n",
    "We will also use vectors - column or row - as RANK 2 arrays."
   ]
  },
  {
   "cell_type": "code",
   "execution_count": null,
   "metadata": {},
   "outputs": [
    {
     "name": "stdout",
     "output_type": "stream",
     "text": [
      "Shape:  (1, 4)\n",
      "[[1. 2. 3. 4.]]\n",
      "\n",
      "Transposed shape:  (4, 1)\n",
      "[[1.]\n",
      " [2.]\n",
      " [3.]\n",
      " [4.]]\n"
     ]
    }
   ],
   "source": [
    "# Let's try to make a row vector\n",
    "v = np.array([[1, 2, 3, 4]], dtype=float)\n",
    "print('Shape: ', v.shape)\n",
    "print(v)\n",
    "print('')\n",
    "\n",
    "# Let's make it a Transposed - Column Vector\n",
    "v = v.T\n",
    "print('Transposed shape: ', v.shape)\n",
    "print(v)\n"
   ]
  },
  {
   "attachments": {},
   "cell_type": "markdown",
   "metadata": {},
   "source": [
    "## Cut of a matrix\n",
    "\n",
    "Cut lowers Rank!"
   ]
  },
  {
   "cell_type": "code",
   "execution_count": null,
   "metadata": {},
   "outputs": [
    {
     "name": "stdout",
     "output_type": "stream",
     "text": [
      "[[1 2 3]\n",
      " [4 5 6]\n",
      " [7 8 9]]\n",
      "Shape:  (3, 3)\n",
      "\n"
     ]
    }
   ],
   "source": [
    "# Let's make a 3x3 matrix\n",
    "m = np.array([[1, 2, 3], [4, 5, 6], [7, 8, 9]])\n",
    "print(m)\n",
    "print('Shape: ',m.shape)   # >> (3, 3)\n",
    "print('')\n"
   ]
  },
  {
   "cell_type": "code",
   "execution_count": null,
   "metadata": {},
   "outputs": [
    {
     "name": "stdout",
     "output_type": "stream",
     "text": [
      "Druhy riadok - Rank 1:\n",
      "[4 5 6]\n",
      "(3,)\n",
      "\n",
      "Druhy riadok - Rank 2:\n",
      "[[4 5 6]]\n",
      "(1, 3)\n",
      "\n"
     ]
    }
   ],
   "source": [
    "# second row\n",
    "\n",
    "r = m[1,:]    # >> (3, ) Rank 1\n",
    "print('Second row - Rank 1:')\n",
    "print(r)\n",
    "print(r.shape)\n",
    "print('')\n",
    "\n",
    "r = m[1,None]   # >> (1, 3) Rank 2\n",
    "print('Second row - Rank 2:')\n",
    "print(r)\n",
    "print(r.shape)\n",
    "print('')\n"
   ]
  },
  {
   "cell_type": "code",
   "execution_count": null,
   "metadata": {},
   "outputs": [
    {
     "name": "stdout",
     "output_type": "stream",
     "text": [
      "Druhy stlpec - Rank 1:\n",
      "[2 5 8]\n",
      "(3,)\n",
      "\n",
      "Druhy stlpec - Rank 2:\n",
      "[[2]\n",
      " [5]\n",
      " [8]]\n",
      "(3, 1)\n"
     ]
    }
   ],
   "source": [
    "# Second column\n",
    "\n",
    "c = m[:,1]    # >> (3, ) Rank 1\n",
    "print('Second column - Rank 1:')\n",
    "print(c)\n",
    "print(c.shape)\n",
    "print('')\n",
    "\n",
    "c = m[:,1,None]   # >> (3, 1) Rank 2\n",
    "print('Second column - Rank 2:')\n",
    "print(c)\n",
    "print(c.shape)\n"
   ]
  },
  {
   "attachments": {},
   "cell_type": "markdown",
   "metadata": {},
   "source": [
    "## Broadcasting\n",
    "\n",
    "If we are trying to perform a matrix operation on operands with an unsuitable shape, Numpy can help by meaningfully duplicating values."
   ]
  },
  {
   "cell_type": "code",
   "execution_count": null,
   "metadata": {},
   "outputs": [
    {
     "name": "stdout",
     "output_type": "stream",
     "text": [
      "Matrix M: \n",
      " [[1 2]\n",
      " [3 4]] \n",
      "\n",
      "b: \n",
      " 1 \n",
      "\n",
      "Matrix M+b: \n",
      " [[2 3]\n",
      " [4 5]] \n",
      "\n"
     ]
    }
   ],
   "source": [
    "# Let's make a matrix M - 2x2, and a scalar b\n",
    "M = np.array([[1,2], [3,4]])     # >> (2, 2)\n",
    "b = 1\n",
    "\n",
    "print('Matrix M: \\n', M, '\\n')\n",
    "print('b: \\n', b, '\\n')\n",
    "print('Matrix M+b: \\n', M+b, '\\n')\n"
   ]
  },
  {
   "cell_type": "code",
   "execution_count": null,
   "metadata": {},
   "outputs": [
    {
     "name": "stdout",
     "output_type": "stream",
     "text": [
      "Matrix M: \n",
      " [[1 2]\n",
      " [3 4]] \n",
      "\n",
      "c: \n",
      " [[5 5]] \n",
      "\n",
      "Matrix M+c: \n",
      " [[6 7]\n",
      " [8 9]] \n",
      "\n"
     ]
    }
   ],
   "source": [
    "# Let's create a row vector c - 1x2\n",
    "c = np.array([[5, 5]])           # >> (1, 2)\n",
    "\n",
    "print('Matrix M: \\n', M, '\\n')\n",
    "print('c: \\n', c, '\\n')\n",
    "print('Matrix M+c: \\n', M+c, '\\n')"
   ]
  },
  {
   "cell_type": "code",
   "execution_count": null,
   "metadata": {},
   "outputs": [
    {
     "name": "stdout",
     "output_type": "stream",
     "text": [
      "Matrix M: \n",
      " [[1 2]\n",
      " [3 4]] \n",
      "\n",
      "d: \n",
      " [[10]\n",
      " [10]] \n",
      "\n",
      "Matrix M+d: \n",
      " [[11 12]\n",
      " [13 14]] \n",
      "\n"
     ]
    }
   ],
   "source": [
    "# Let's create a column vector d - 2x1\n",
    "d = np.array([[10], [10]])  # >> (2, 1)\n",
    "\n",
    "print('Matrix M: \\n', M, '\\n')\n",
    "print('d: \\n', d, '\\n')\n",
    "print('Matrix M+d: \\n', M+d, '\\n')\n"
   ]
  },
  {
   "attachments": {},
   "cell_type": "markdown",
   "metadata": {},
   "source": [
    "## Functions over Numpy array\n",
    "\n",
    "The Numpy library can perform mathematical functions on matrix elements. For example, exp."
   ]
  },
  {
   "cell_type": "code",
   "execution_count": null,
   "metadata": {},
   "outputs": [],
   "source": [
    "import math"
   ]
  },
  {
   "cell_type": "code",
   "execution_count": null,
   "metadata": {},
   "outputs": [
    {
     "name": "stdout",
     "output_type": "stream",
     "text": [
      "0.36787944117144233\n"
     ]
    }
   ],
   "source": [
    "# We call the traditional math.exp function\n",
    "a = -1.0\n",
    "print(math.exp(a))\n"
   ]
  },
  {
   "cell_type": "code",
   "execution_count": null,
   "metadata": {},
   "outputs": [
    {
     "name": "stdout",
     "output_type": "stream",
     "text": [
      "a: \n",
      " [[-1.  0.  1.]] \n",
      "\n",
      "r: \n",
      " [[0.36787944 1.         2.71828183]] \n",
      "\n"
     ]
    }
   ],
   "source": [
    "# We call the numpy.exp function\n",
    "a = np.array([[-1.0, 0, 1.0]], dtype=float)\n",
    "r = np.exp(a)\n",
    "\n",
    "print('a: \\n', a, '\\n')\n",
    "print('r: \\n', r, '\\n')\n"
   ]
  },
  {
   "cell_type": "code",
   "execution_count": 17,
   "metadata": {},
   "outputs": [
    {
     "name": "stdout",
     "output_type": "stream",
     "text": [
      "a: \n",
      " [0 1 2 3 4 5 6 7 8 9] \n",
      "\n",
      "b: \n",
      " [False False False False False False  True  True  True  True] \n",
      "\n"
     ]
    }
   ],
   "source": [
    "# Boolean arraye\n",
    "a = np.arange(start=0, stop=10, step=1, dtype=int)\n",
    "print('a: \\n', a, '\\n')\n",
    "\n",
    "# Element-wise porovnanie\n",
    "b = (a > 5)\n",
    "print('b: \\n', b, '\\n')\n"
   ]
  },
  {
   "attachments": {},
   "cell_type": "markdown",
   "metadata": {},
   "source": [
    "## Initialization\n",
    "\n",
    "We can initialize matrices either to a specific value - 0, 1.\n",
    "Or randomly from a distribution (uniform, normal, ... )"
   ]
  },
  {
   "cell_type": "code",
   "execution_count": null,
   "metadata": {},
   "outputs": [
    {
     "name": "stdout",
     "output_type": "stream",
     "text": [
      "[[1. 1. 1. 1. 1. 1. 1. 1. 1. 1.]\n",
      " [1. 1. 1. 1. 1. 1. 1. 1. 1. 1.]\n",
      " [1. 1. 1. 1. 1. 1. 1. 1. 1. 1.]\n",
      " [1. 1. 1. 1. 1. 1. 1. 1. 1. 1.]\n",
      " [1. 1. 1. 1. 1. 1. 1. 1. 1. 1.]]\n"
     ]
    }
   ],
   "source": [
    "# We initialize all elements to the value 1\n",
    "v = np.ones(shape=(5, 10), dtype=float)\n",
    "print(v)"
   ]
  },
  {
   "cell_type": "code",
   "execution_count": null,
   "metadata": {},
   "outputs": [
    {
     "name": "stdout",
     "output_type": "stream",
     "text": [
      "[[0. 0. 0. 0. 0. 0. 0. 0. 0. 0.]\n",
      " [0. 0. 0. 0. 0. 0. 0. 0. 0. 0.]\n",
      " [0. 0. 0. 0. 0. 0. 0. 0. 0. 0.]\n",
      " [0. 0. 0. 0. 0. 0. 0. 0. 0. 0.]\n",
      " [0. 0. 0. 0. 0. 0. 0. 0. 0. 0.]]\n"
     ]
    }
   ],
   "source": [
    "# We initialize all elements to the value 0\n",
    "v = np.zeros(shape=(5, 10), dtype=float)\n",
    "print(v)"
   ]
  },
  {
   "cell_type": "code",
   "execution_count": null,
   "metadata": {},
   "outputs": [
    {
     "name": "stdout",
     "output_type": "stream",
     "text": [
      "[[1. 1. 1. 1. 1. 1. 1. 1. 1. 1.]\n",
      " [1. 1. 1. 1. 1. 1. 1. 1. 1. 1.]\n",
      " [1. 1. 1. 1. 1. 1. 1. 1. 1. 1.]\n",
      " [1. 1. 1. 1. 1. 1. 1. 1. 1. 1.]\n",
      " [1. 1. 1. 1. 1. 1. 1. 1. 1. 1.]]\n"
     ]
    }
   ],
   "source": [
    "# Initialize with the same shape\n",
    "v2 = np.ones_like(v)\n",
    "print(v2)"
   ]
  },
  {
   "cell_type": "code",
   "execution_count": null,
   "metadata": {},
   "outputs": [
    {
     "name": "stdout",
     "output_type": "stream",
     "text": [
      "[[0.78846939 0.45312891 0.73789241]\n",
      " [0.60690046 0.48092421 0.59970727]]\n",
      "(2, 3)\n"
     ]
    }
   ],
   "source": [
    "# Initialization with random values ​​- Uniform Distribution\n",
    "v = np.random.rand(2, 3)    # <0; 1>\n",
    "print(v)\n",
    "print(v.shape)"
   ]
  },
  {
   "cell_type": "code",
   "execution_count": null,
   "metadata": {},
   "outputs": [
    {
     "name": "stdout",
     "output_type": "stream",
     "text": [
      "[[-0.34745991 -0.99997096  0.45799493]\n",
      " [-0.83502909 -0.44754944  1.26640687]]\n",
      "(2, 3)\n"
     ]
    }
   ],
   "source": [
    "# Initialization with random values ​​- Normal Distribution\n",
    "v = np.random.randn(2, 3)   # Normal(mean=0, stddev=1)\n",
    "print(v)\n",
    "print(v.shape)"
   ]
  }
 ],
 "metadata": {
  "kernelspec": {
   "display_name": "Python 3",
   "language": "python",
   "name": "python3"
  },
  "language_info": {
   "codemirror_mode": {
    "name": "ipython",
    "version": 3
   },
   "file_extension": ".py",
   "mimetype": "text/x-python",
   "name": "python",
   "nbconvert_exporter": "python",
   "pygments_lexer": "ipython3",
   "version": "3.10.11"
  }
 },
 "nbformat": 4,
 "nbformat_minor": 2
}
